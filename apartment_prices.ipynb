{
  "nbformat": 4,
  "nbformat_minor": 0,
  "metadata": {
    "colab": {
      "name": "apartment_prices.ipynb",
      "provenance": [],
      "collapsed_sections": [],
      "authorship_tag": "ABX9TyPqJ05IS7gp8noLf2L56rpD",
      "include_colab_link": true
    },
    "kernelspec": {
      "name": "python3",
      "display_name": "Python 3"
    }
  },
  "cells": [
    {
      "cell_type": "markdown",
      "metadata": {
        "id": "view-in-github",
        "colab_type": "text"
      },
      "source": [
        "<a href=\"https://colab.research.google.com/github/nairababayan/linear_regression/blob/master/apartment_prices.ipynb\" target=\"_parent\"><img src=\"https://colab.research.google.com/assets/colab-badge.svg\" alt=\"Open In Colab\"/></a>"
      ]
    },
    {
      "cell_type": "markdown",
      "metadata": {
        "id": "OrqU-vm20fpC",
        "colab_type": "text"
      },
      "source": [
        "## **Yerevan apartment prices prediction using Linear Regression**"
      ]
    },
    {
      "cell_type": "code",
      "metadata": {
        "id": "O2vqFOUp0Jkx",
        "colab_type": "code",
        "colab": {}
      },
      "source": [
        "import pandas as pd\n",
        "import numpy as np\n",
        "from geopy.distance import geodesic\n",
        "from sklearn.preprocessing import LabelEncoder"
      ],
      "execution_count": 0,
      "outputs": []
    },
    {
      "cell_type": "code",
      "metadata": {
        "id": "5ZfccYGZ0duP",
        "colab_type": "code",
        "colab": {
          "base_uri": "https://localhost:8080/",
          "height": 289
        },
        "outputId": "607842fb-6d4a-4089-929d-1720fc095c37"
      },
      "source": [
        "# Using pandas library we read the csv file into a dataframe\n",
        "file_path = 'https://raw.githubusercontent.com/nairababayan/linear_regression/master/yerevan_apartments.csv'\n",
        "df = pd.read_csv(file_path)\n",
        "\n",
        "# Now let's print the first 5 lines of the file to see the data we are dealing with.\n",
        "# I have added latitude and longtitude columns to the original data, based on the street address.\n",
        "df.head(5)"
      ],
      "execution_count": 4,
      "outputs": [
        {
          "output_type": "execute_result",
          "data": {
            "text/html": [
              "<div>\n",
              "<style scoped>\n",
              "    .dataframe tbody tr th:only-of-type {\n",
              "        vertical-align: middle;\n",
              "    }\n",
              "\n",
              "    .dataframe tbody tr th {\n",
              "        vertical-align: top;\n",
              "    }\n",
              "\n",
              "    .dataframe thead th {\n",
              "        text-align: right;\n",
              "    }\n",
              "</style>\n",
              "<table border=\"1\" class=\"dataframe\">\n",
              "  <thead>\n",
              "    <tr style=\"text-align: right;\">\n",
              "      <th></th>\n",
              "      <th>Unnamed: 0</th>\n",
              "      <th>price</th>\n",
              "      <th>condition</th>\n",
              "      <th>district</th>\n",
              "      <th>max_floor</th>\n",
              "      <th>street</th>\n",
              "      <th>latitude</th>\n",
              "      <th>longtitude</th>\n",
              "      <th>num_rooms</th>\n",
              "      <th>area</th>\n",
              "      <th>num_bathrooms</th>\n",
              "      <th>building_type</th>\n",
              "      <th>floor</th>\n",
              "      <th>ceiling_height</th>\n",
              "    </tr>\n",
              "  </thead>\n",
              "  <tbody>\n",
              "    <tr>\n",
              "      <th>0</th>\n",
              "      <td>0</td>\n",
              "      <td>65000</td>\n",
              "      <td>good</td>\n",
              "      <td>Center</td>\n",
              "      <td>9</td>\n",
              "      <td>Vardanants St</td>\n",
              "      <td>40.174314</td>\n",
              "      <td>44.521089</td>\n",
              "      <td>3</td>\n",
              "      <td>80</td>\n",
              "      <td>1</td>\n",
              "      <td>panel</td>\n",
              "      <td>4</td>\n",
              "      <td>2.8</td>\n",
              "    </tr>\n",
              "    <tr>\n",
              "      <th>1</th>\n",
              "      <td>1</td>\n",
              "      <td>140000</td>\n",
              "      <td>newly repaired</td>\n",
              "      <td>Arabkir</td>\n",
              "      <td>10</td>\n",
              "      <td>Hr.Kochar St</td>\n",
              "      <td>40.201211</td>\n",
              "      <td>44.501362</td>\n",
              "      <td>4</td>\n",
              "      <td>115</td>\n",
              "      <td>1</td>\n",
              "      <td>monolit</td>\n",
              "      <td>2</td>\n",
              "      <td>3.0</td>\n",
              "    </tr>\n",
              "    <tr>\n",
              "      <th>2</th>\n",
              "      <td>2</td>\n",
              "      <td>97000</td>\n",
              "      <td>newly repaired</td>\n",
              "      <td>Center</td>\n",
              "      <td>10</td>\n",
              "      <td>Teryan St</td>\n",
              "      <td>40.186158</td>\n",
              "      <td>44.518502</td>\n",
              "      <td>2</td>\n",
              "      <td>72</td>\n",
              "      <td>1</td>\n",
              "      <td>panel</td>\n",
              "      <td>3</td>\n",
              "      <td>2.8</td>\n",
              "    </tr>\n",
              "    <tr>\n",
              "      <th>3</th>\n",
              "      <td>3</td>\n",
              "      <td>47000</td>\n",
              "      <td>good</td>\n",
              "      <td>Center</td>\n",
              "      <td>9</td>\n",
              "      <td>D. Demirchyan St</td>\n",
              "      <td>40.189362</td>\n",
              "      <td>44.507579</td>\n",
              "      <td>1</td>\n",
              "      <td>43</td>\n",
              "      <td>1</td>\n",
              "      <td>panel</td>\n",
              "      <td>9</td>\n",
              "      <td>2.8</td>\n",
              "    </tr>\n",
              "    <tr>\n",
              "      <th>4</th>\n",
              "      <td>4</td>\n",
              "      <td>51000</td>\n",
              "      <td>newly repaired</td>\n",
              "      <td>Center</td>\n",
              "      <td>14</td>\n",
              "      <td>Sayat Nova Ave</td>\n",
              "      <td>40.182024</td>\n",
              "      <td>44.521000</td>\n",
              "      <td>1</td>\n",
              "      <td>33</td>\n",
              "      <td>1</td>\n",
              "      <td>other</td>\n",
              "      <td>4</td>\n",
              "      <td>2.8</td>\n",
              "    </tr>\n",
              "  </tbody>\n",
              "</table>\n",
              "</div>"
            ],
            "text/plain": [
              "   Unnamed: 0   price       condition  ... building_type  floor ceiling_height\n",
              "0           0   65000            good  ...         panel      4            2.8\n",
              "1           1  140000  newly repaired  ...       monolit      2            3.0\n",
              "2           2   97000  newly repaired  ...         panel      3            2.8\n",
              "3           3   47000            good  ...         panel      9            2.8\n",
              "4           4   51000  newly repaired  ...         other      4            2.8\n",
              "\n",
              "[5 rows x 14 columns]"
            ]
          },
          "metadata": {
            "tags": []
          },
          "execution_count": 4
        }
      ]
    },
    {
      "cell_type": "markdown",
      "metadata": {
        "id": "R1D0sQ2H1oZd",
        "colab_type": "text"
      },
      "source": [
        "As apartment prices depend on the distance from city center, we are adding another column named 'distance' to our dataframe, which will be the main feature of pricing. As the city center I took the Northern Avenue, which has the highest prices.\n",
        "\n",
        "![alt text](https://raw.githubusercontent.com/nairababayan/linear_regression/master/yerevan_city_center.png)"
      ]
    },
    {
      "cell_type": "code",
      "metadata": {
        "id": "wcO8LOtj1LJU",
        "colab_type": "code",
        "colab": {
          "base_uri": "https://localhost:8080/",
          "height": 326
        },
        "outputId": "abb8f032-2619-48d5-b412-9d4df1c9da48"
      },
      "source": [
        "# The value of distance will be calculated using GeoPy library (https://geopy.readthedocs.io/en/stable/).\n",
        "city_center = [40.184148, 44.514906]\n",
        "df['distance'] = list(map(lambda x, y: geodesic(city_center, [x, y]).meters, df['latitude'], df['longtitude']))\n",
        "df['distance'] = df['distance'].round(0)\n",
        "\n",
        "df.head(5)"
      ],
      "execution_count": 15,
      "outputs": [
        {
          "output_type": "execute_result",
          "data": {
            "text/html": [
              "<div>\n",
              "<style scoped>\n",
              "    .dataframe tbody tr th:only-of-type {\n",
              "        vertical-align: middle;\n",
              "    }\n",
              "\n",
              "    .dataframe tbody tr th {\n",
              "        vertical-align: top;\n",
              "    }\n",
              "\n",
              "    .dataframe thead th {\n",
              "        text-align: right;\n",
              "    }\n",
              "</style>\n",
              "<table border=\"1\" class=\"dataframe\">\n",
              "  <thead>\n",
              "    <tr style=\"text-align: right;\">\n",
              "      <th></th>\n",
              "      <th>Unnamed: 0</th>\n",
              "      <th>price</th>\n",
              "      <th>condition</th>\n",
              "      <th>district</th>\n",
              "      <th>max_floor</th>\n",
              "      <th>street</th>\n",
              "      <th>latitude</th>\n",
              "      <th>longtitude</th>\n",
              "      <th>num_rooms</th>\n",
              "      <th>area</th>\n",
              "      <th>num_bathrooms</th>\n",
              "      <th>building_type</th>\n",
              "      <th>floor</th>\n",
              "      <th>ceiling_height</th>\n",
              "      <th>distance</th>\n",
              "    </tr>\n",
              "  </thead>\n",
              "  <tbody>\n",
              "    <tr>\n",
              "      <th>0</th>\n",
              "      <td>0</td>\n",
              "      <td>65000</td>\n",
              "      <td>0</td>\n",
              "      <td>Center</td>\n",
              "      <td>9</td>\n",
              "      <td>Vardanants St</td>\n",
              "      <td>40.174314</td>\n",
              "      <td>44.521089</td>\n",
              "      <td>3</td>\n",
              "      <td>80</td>\n",
              "      <td>1</td>\n",
              "      <td>2</td>\n",
              "      <td>4</td>\n",
              "      <td>2.8</td>\n",
              "      <td>1212.0</td>\n",
              "    </tr>\n",
              "    <tr>\n",
              "      <th>1</th>\n",
              "      <td>1</td>\n",
              "      <td>140000</td>\n",
              "      <td>1</td>\n",
              "      <td>Arabkir</td>\n",
              "      <td>10</td>\n",
              "      <td>Hr.Kochar St</td>\n",
              "      <td>40.201211</td>\n",
              "      <td>44.501362</td>\n",
              "      <td>4</td>\n",
              "      <td>115</td>\n",
              "      <td>1</td>\n",
              "      <td>0</td>\n",
              "      <td>2</td>\n",
              "      <td>3.0</td>\n",
              "      <td>2218.0</td>\n",
              "    </tr>\n",
              "    <tr>\n",
              "      <th>2</th>\n",
              "      <td>2</td>\n",
              "      <td>97000</td>\n",
              "      <td>1</td>\n",
              "      <td>Center</td>\n",
              "      <td>10</td>\n",
              "      <td>Teryan St</td>\n",
              "      <td>40.186158</td>\n",
              "      <td>44.518502</td>\n",
              "      <td>2</td>\n",
              "      <td>72</td>\n",
              "      <td>1</td>\n",
              "      <td>2</td>\n",
              "      <td>3</td>\n",
              "      <td>2.8</td>\n",
              "      <td>379.0</td>\n",
              "    </tr>\n",
              "    <tr>\n",
              "      <th>3</th>\n",
              "      <td>3</td>\n",
              "      <td>47000</td>\n",
              "      <td>0</td>\n",
              "      <td>Center</td>\n",
              "      <td>9</td>\n",
              "      <td>D. Demirchyan St</td>\n",
              "      <td>40.189362</td>\n",
              "      <td>44.507579</td>\n",
              "      <td>1</td>\n",
              "      <td>43</td>\n",
              "      <td>1</td>\n",
              "      <td>2</td>\n",
              "      <td>9</td>\n",
              "      <td>2.8</td>\n",
              "      <td>851.0</td>\n",
              "    </tr>\n",
              "    <tr>\n",
              "      <th>4</th>\n",
              "      <td>4</td>\n",
              "      <td>51000</td>\n",
              "      <td>1</td>\n",
              "      <td>Center</td>\n",
              "      <td>14</td>\n",
              "      <td>Sayat Nova Ave</td>\n",
              "      <td>40.182024</td>\n",
              "      <td>44.521000</td>\n",
              "      <td>1</td>\n",
              "      <td>33</td>\n",
              "      <td>1</td>\n",
              "      <td>1</td>\n",
              "      <td>4</td>\n",
              "      <td>2.8</td>\n",
              "      <td>570.0</td>\n",
              "    </tr>\n",
              "  </tbody>\n",
              "</table>\n",
              "</div>"
            ],
            "text/plain": [
              "   Unnamed: 0   price  condition  ... floor  ceiling_height distance\n",
              "0           0   65000          0  ...     4             2.8   1212.0\n",
              "1           1  140000          1  ...     2             3.0   2218.0\n",
              "2           2   97000          1  ...     3             2.8    379.0\n",
              "3           3   47000          0  ...     9             2.8    851.0\n",
              "4           4   51000          1  ...     4             2.8    570.0\n",
              "\n",
              "[5 rows x 15 columns]"
            ]
          },
          "metadata": {
            "tags": []
          },
          "execution_count": 15
        }
      ]
    },
    {
      "cell_type": "code",
      "metadata": {
        "id": "XxE-pW147ods",
        "colab_type": "code",
        "colab": {
          "base_uri": "https://localhost:8080/",
          "height": 391
        },
        "outputId": "a564596c-5ec5-4455-efc5-d03d20930492"
      },
      "source": [
        "# If we print the full summary of our dataframe, we can see that we have two object columns 'building_type' and 'condition' that are an important part of pricing. \n",
        "# Our ML algorithm can only read numerical values, so we should encode these categorical features into numerical values.\n",
        "df.info()"
      ],
      "execution_count": 9,
      "outputs": [
        {
          "output_type": "stream",
          "text": [
            "<class 'pandas.core.frame.DataFrame'>\n",
            "RangeIndex: 6234 entries, 0 to 6233\n",
            "Data columns (total 15 columns):\n",
            " #   Column          Non-Null Count  Dtype  \n",
            "---  ------          --------------  -----  \n",
            " 0   Unnamed: 0      6234 non-null   int64  \n",
            " 1   price           6234 non-null   int64  \n",
            " 2   condition       6234 non-null   object \n",
            " 3   district        6234 non-null   object \n",
            " 4   max_floor       6234 non-null   int64  \n",
            " 5   street          6234 non-null   object \n",
            " 6   latitude        6234 non-null   float64\n",
            " 7   longtitude      6234 non-null   float64\n",
            " 8   num_rooms       6234 non-null   int64  \n",
            " 9   area            6234 non-null   int64  \n",
            " 10  num_bathrooms   6234 non-null   int64  \n",
            " 11  building_type   6234 non-null   object \n",
            " 12  floor           6234 non-null   int64  \n",
            " 13  ceiling_height  6234 non-null   float64\n",
            " 14  distance        6234 non-null   float64\n",
            "dtypes: float64(4), int64(7), object(4)\n",
            "memory usage: 730.7+ KB\n"
          ],
          "name": "stdout"
        }
      ]
    },
    {
      "cell_type": "code",
      "metadata": {
        "id": "bLtojO035Uoz",
        "colab_type": "code",
        "colab": {
          "base_uri": "https://localhost:8080/",
          "height": 51
        },
        "outputId": "d92939ff-ee54-40dc-fc86-36e307961e05"
      },
      "source": [
        "# We can use LabelEncoder, which converts each class under specified feature to a numerical value.\n",
        "# cat_columns = df.select_dtypes(['object']).columns\n",
        "cat_columns = ['condition','building_type']   # we do it only for this 2 columns, not all object types\n",
        "\n",
        "le = LabelEncoder()\n",
        "df[cat_columns] = df[cat_columns].apply(lambda col: le.fit_transform(col))\n",
        "\n",
        "print(df.condition.unique())\n",
        "print(df.building_type.unique())"
      ],
      "execution_count": 14,
      "outputs": [
        {
          "output_type": "stream",
          "text": [
            "[0 1 2]\n",
            "[2 0 1 3]\n"
          ],
          "name": "stdout"
        }
      ]
    },
    {
      "cell_type": "code",
      "metadata": {
        "id": "ILMVioE2L4xi",
        "colab_type": "code",
        "colab": {}
      },
      "source": [
        ""
      ],
      "execution_count": 0,
      "outputs": []
    }
  ]
}